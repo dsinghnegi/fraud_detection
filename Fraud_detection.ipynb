{
  "nbformat": 4,
  "nbformat_minor": 0,
  "metadata": {
    "kernelspec": {
      "display_name": "Python 3",
      "language": "python",
      "name": "python3"
    },
    "language_info": {
      "codemirror_mode": {
        "name": "ipython",
        "version": 3
      },
      "file_extension": ".py",
      "mimetype": "text/x-python",
      "name": "python",
      "nbconvert_exporter": "python",
      "pygments_lexer": "ipython3",
      "version": "3.6.8"
    },
    "colab": {
      "name": "Fraud detection.ipynb",
      "version": "0.3.2",
      "provenance": [],
      "collapsed_sections": [],
      "toc_visible": true
    }
  },
  "cells": [
    {
      "cell_type": "markdown",
      "metadata": {
        "id": "czm93lf0q1y0",
        "colab_type": "text"
      },
      "source": [
        "# Fraud Detection"
      ]
    },
    {
      "cell_type": "markdown",
      "metadata": {
        "id": "G66tGurhq1y4",
        "colab_type": "text"
      },
      "source": [
        "## Installing important lIbraries\n",
        " * #### Numpy\n",
        " * #### Pandas\n",
        " * #### Seaborn\n",
        " * #### Scikit-learn\n",
        "  "
      ]
    },
    {
      "cell_type": "code",
      "metadata": {
        "id": "wCn17nHWq1y8",
        "colab_type": "code",
        "outputId": "6e17a27b-54a6-4f28-9066-46aefe403049",
        "colab": {
          "base_uri": "https://localhost:8080/",
          "height": 399
        }
      },
      "source": [
        "!pip install pandas\n",
        "!pip install numpy\n",
        "!pip install seaborn\n",
        "!pip install scikit-learn"
      ],
      "execution_count": 0,
      "outputs": [
        {
          "output_type": "stream",
          "text": [
            "Requirement already satisfied: pandas in /usr/local/lib/python3.6/dist-packages (0.24.2)\n",
            "Requirement already satisfied: numpy>=1.12.0 in /usr/local/lib/python3.6/dist-packages (from pandas) (1.16.5)\n",
            "Requirement already satisfied: pytz>=2011k in /usr/local/lib/python3.6/dist-packages (from pandas) (2018.9)\n",
            "Requirement already satisfied: python-dateutil>=2.5.0 in /usr/local/lib/python3.6/dist-packages (from pandas) (2.5.3)\n",
            "Requirement already satisfied: six>=1.5 in /usr/local/lib/python3.6/dist-packages (from python-dateutil>=2.5.0->pandas) (1.12.0)\n",
            "Requirement already satisfied: numpy in /usr/local/lib/python3.6/dist-packages (1.16.5)\n",
            "Requirement already satisfied: seaborn in /usr/local/lib/python3.6/dist-packages (0.9.0)\n",
            "Requirement already satisfied: scipy>=0.14.0 in /usr/local/lib/python3.6/dist-packages (from seaborn) (1.3.1)\n",
            "Requirement already satisfied: pandas>=0.15.2 in /usr/local/lib/python3.6/dist-packages (from seaborn) (0.24.2)\n",
            "Requirement already satisfied: numpy>=1.9.3 in /usr/local/lib/python3.6/dist-packages (from seaborn) (1.16.5)\n",
            "Requirement already satisfied: matplotlib>=1.4.3 in /usr/local/lib/python3.6/dist-packages (from seaborn) (3.0.3)\n",
            "Requirement already satisfied: pytz>=2011k in /usr/local/lib/python3.6/dist-packages (from pandas>=0.15.2->seaborn) (2018.9)\n",
            "Requirement already satisfied: python-dateutil>=2.5.0 in /usr/local/lib/python3.6/dist-packages (from pandas>=0.15.2->seaborn) (2.5.3)\n",
            "Requirement already satisfied: kiwisolver>=1.0.1 in /usr/local/lib/python3.6/dist-packages (from matplotlib>=1.4.3->seaborn) (1.1.0)\n",
            "Requirement already satisfied: cycler>=0.10 in /usr/local/lib/python3.6/dist-packages (from matplotlib>=1.4.3->seaborn) (0.10.0)\n",
            "Requirement already satisfied: pyparsing!=2.0.4,!=2.1.2,!=2.1.6,>=2.0.1 in /usr/local/lib/python3.6/dist-packages (from matplotlib>=1.4.3->seaborn) (2.4.2)\n",
            "Requirement already satisfied: six>=1.5 in /usr/local/lib/python3.6/dist-packages (from python-dateutil>=2.5.0->pandas>=0.15.2->seaborn) (1.12.0)\n",
            "Requirement already satisfied: setuptools in /usr/local/lib/python3.6/dist-packages (from kiwisolver>=1.0.1->matplotlib>=1.4.3->seaborn) (41.2.0)\n",
            "Requirement already satisfied: scikit-learn in /usr/local/lib/python3.6/dist-packages (0.21.3)\n",
            "Requirement already satisfied: scipy>=0.17.0 in /usr/local/lib/python3.6/dist-packages (from scikit-learn) (1.3.1)\n",
            "Requirement already satisfied: joblib>=0.11 in /usr/local/lib/python3.6/dist-packages (from scikit-learn) (0.13.2)\n",
            "Requirement already satisfied: numpy>=1.11.0 in /usr/local/lib/python3.6/dist-packages (from scikit-learn) (1.16.5)\n"
          ],
          "name": "stdout"
        }
      ]
    },
    {
      "cell_type": "markdown",
      "metadata": {
        "id": "AoTKOxZMq1zE",
        "colab_type": "text"
      },
      "source": [
        "## Importing libraries"
      ]
    },
    {
      "cell_type": "code",
      "metadata": {
        "id": "hYxinPQMq1zF",
        "colab_type": "code",
        "colab": {}
      },
      "source": [
        "import numpy as np\n",
        "import pandas as pd\n",
        "import seaborn as sns\n",
        "from sklearn.metrics import f1_score, confusion_matrix, classification_report, roc_auc_score\n",
        "import sklearn\n",
        "import matplotlib.pyplot as plt\n"
      ],
      "execution_count": 0,
      "outputs": []
    },
    {
      "cell_type": "markdown",
      "metadata": {
        "id": "12x4VoWMq1zL",
        "colab_type": "text"
      },
      "source": [
        "## Loading The DATA\n",
        "First, we will gone use memory reduce function to reduce the usage of the memory"
      ]
    },
    {
      "cell_type": "code",
      "metadata": {
        "id": "Rqlo_Zniq1zN",
        "colab_type": "code",
        "colab": {}
      },
      "source": [
        "def reduce_mem_usage(df):\n",
        "    \"\"\" iterate through all the columns of a dataframe and modify the data type\n",
        "        to reduce memory usage.        \n",
        "    \"\"\"\n",
        "    start_mem = df.memory_usage().sum() / 1024**2\n",
        "    print('Memory usage of dataframe is {:.2f} MB'.format(start_mem))\n",
        "    \n",
        "    for col in df.columns:\n",
        "        col_type = df[col].dtype\n",
        "        \n",
        "        if col_type != object:\n",
        "            c_min = df[col].min()\n",
        "            c_max = df[col].max()\n",
        "            if str(col_type)[:3] == 'int':\n",
        "                if c_min > np.iinfo(np.int8).min and c_max < np.iinfo(np.int8).max:\n",
        "                    df[col] = df[col].astype(np.int8)\n",
        "                elif c_min > np.iinfo(np.int16).min and c_max < np.iinfo(np.int16).max:\n",
        "                    df[col] = df[col].astype(np.int16)\n",
        "                elif c_min > np.iinfo(np.int32).min and c_max < np.iinfo(np.int32).max:\n",
        "                    df[col] = df[col].astype(np.int32)\n",
        "                elif c_min > np.iinfo(np.int64).min and c_max < np.iinfo(np.int64).max:\n",
        "                    df[col] = df[col].astype(np.int64)  \n",
        "            else:\n",
        "                if c_min > np.finfo(np.float16).min and c_max < np.finfo(np.float16).max:\n",
        "                    df[col] = df[col].astype(np.float16)\n",
        "                elif c_min > np.finfo(np.float32).min and c_max < np.finfo(np.float32).max:\n",
        "                    df[col] = df[col].astype(np.float32)\n",
        "                else:\n",
        "                    df[col] = df[col].astype(np.float64)\n",
        "        else:\n",
        "            df[col] = df[col].astype('category')\n",
        "\n",
        "    end_mem = df.memory_usage().sum() / 1024**2\n",
        "    print('Memory usage after optimization is: {:.2f} MB'.format(end_mem))\n",
        "    print('Decreased by {:.1f}%'.format(100 * (start_mem - end_mem) / start_mem))\n",
        "    \n",
        "    return df\n",
        "\n"
      ],
      "execution_count": 0,
      "outputs": []
    },
    {
      "cell_type": "markdown",
      "metadata": {
        "id": "ofCsnxnVq1zR",
        "colab_type": "text"
      },
      "source": [
        "#### Loading Data"
      ]
    },
    {
      "cell_type": "code",
      "metadata": {
        "id": "lX-YRZ6wq1zV",
        "colab_type": "code",
        "colab": {}
      },
      "source": [
        "train_transaction = pd.read_csv('train/train_transaction.csv')\n",
        "train_identity = pd.read_csv('train/train_identity.csv')"
      ],
      "execution_count": 0,
      "outputs": []
    },
    {
      "cell_type": "code",
      "metadata": {
        "id": "bIfr2YHhq1zb",
        "colab_type": "code",
        "outputId": "ec46c4df-b0dc-4166-a9d0-feca66997ead",
        "colab": {
          "base_uri": "https://localhost:8080/",
          "height": 69
        }
      },
      "source": [
        "train = reduce_mem_usage(pd.merge(train_transaction, train_identity, on='TransactionID', how='left'))\n",
        "\n",
        "del train_transaction\n",
        "del train_identity"
      ],
      "execution_count": 49,
      "outputs": [
        {
          "output_type": "stream",
          "text": [
            "Memory usage of dataframe is 1959.88 MB\n",
            "Memory usage after optimization is: 530.08 MB\n",
            "Decreased by 73.0%\n"
          ],
          "name": "stdout"
        }
      ]
    },
    {
      "cell_type": "code",
      "metadata": {
        "id": "PGghMstxq1zf",
        "colab_type": "code",
        "outputId": "2ae5f34e-f026-44dd-89a3-e77d57d58dd8",
        "colab": {
          "base_uri": "https://localhost:8080/",
          "height": 290
        }
      },
      "source": [
        "train.head()"
      ],
      "execution_count": 50,
      "outputs": [
        {
          "output_type": "execute_result",
          "data": {
            "text/html": [
              "<div>\n",
              "<style scoped>\n",
              "    .dataframe tbody tr th:only-of-type {\n",
              "        vertical-align: middle;\n",
              "    }\n",
              "\n",
              "    .dataframe tbody tr th {\n",
              "        vertical-align: top;\n",
              "    }\n",
              "\n",
              "    .dataframe thead th {\n",
              "        text-align: right;\n",
              "    }\n",
              "</style>\n",
              "<table border=\"1\" class=\"dataframe\">\n",
              "  <thead>\n",
              "    <tr style=\"text-align: right;\">\n",
              "      <th></th>\n",
              "      <th>TransactionID</th>\n",
              "      <th>isFraud</th>\n",
              "      <th>TransactionDT</th>\n",
              "      <th>TransactionAmt</th>\n",
              "      <th>ProductCD</th>\n",
              "      <th>card1</th>\n",
              "      <th>card2</th>\n",
              "      <th>card3</th>\n",
              "      <th>card4</th>\n",
              "      <th>card5</th>\n",
              "      <th>card6</th>\n",
              "      <th>addr1</th>\n",
              "      <th>addr2</th>\n",
              "      <th>dist1</th>\n",
              "      <th>dist2</th>\n",
              "      <th>P_emaildomain</th>\n",
              "      <th>R_emaildomain</th>\n",
              "      <th>C1</th>\n",
              "      <th>C2</th>\n",
              "      <th>C3</th>\n",
              "      <th>C4</th>\n",
              "      <th>C5</th>\n",
              "      <th>C6</th>\n",
              "      <th>C7</th>\n",
              "      <th>C8</th>\n",
              "      <th>C9</th>\n",
              "      <th>C10</th>\n",
              "      <th>C11</th>\n",
              "      <th>C12</th>\n",
              "      <th>C13</th>\n",
              "      <th>C14</th>\n",
              "      <th>D1</th>\n",
              "      <th>D2</th>\n",
              "      <th>D3</th>\n",
              "      <th>D4</th>\n",
              "      <th>D5</th>\n",
              "      <th>D6</th>\n",
              "      <th>D7</th>\n",
              "      <th>D8</th>\n",
              "      <th>D9</th>\n",
              "      <th>...</th>\n",
              "      <th>id_01</th>\n",
              "      <th>id_02</th>\n",
              "      <th>id_03</th>\n",
              "      <th>id_04</th>\n",
              "      <th>id_05</th>\n",
              "      <th>id_06</th>\n",
              "      <th>id_07</th>\n",
              "      <th>id_08</th>\n",
              "      <th>id_09</th>\n",
              "      <th>id_10</th>\n",
              "      <th>id_11</th>\n",
              "      <th>id_12</th>\n",
              "      <th>id_13</th>\n",
              "      <th>id_14</th>\n",
              "      <th>id_15</th>\n",
              "      <th>id_16</th>\n",
              "      <th>id_17</th>\n",
              "      <th>id_18</th>\n",
              "      <th>id_19</th>\n",
              "      <th>id_20</th>\n",
              "      <th>id_21</th>\n",
              "      <th>id_22</th>\n",
              "      <th>id_23</th>\n",
              "      <th>id_24</th>\n",
              "      <th>id_25</th>\n",
              "      <th>id_26</th>\n",
              "      <th>id_27</th>\n",
              "      <th>id_28</th>\n",
              "      <th>id_29</th>\n",
              "      <th>id_30</th>\n",
              "      <th>id_31</th>\n",
              "      <th>id_32</th>\n",
              "      <th>id_33</th>\n",
              "      <th>id_34</th>\n",
              "      <th>id_35</th>\n",
              "      <th>id_36</th>\n",
              "      <th>id_37</th>\n",
              "      <th>id_38</th>\n",
              "      <th>DeviceType</th>\n",
              "      <th>DeviceInfo</th>\n",
              "    </tr>\n",
              "  </thead>\n",
              "  <tbody>\n",
              "    <tr>\n",
              "      <th>0</th>\n",
              "      <td>2987000</td>\n",
              "      <td>0</td>\n",
              "      <td>86400</td>\n",
              "      <td>68.5</td>\n",
              "      <td>W</td>\n",
              "      <td>13926</td>\n",
              "      <td>NaN</td>\n",
              "      <td>150.0</td>\n",
              "      <td>discover</td>\n",
              "      <td>142.0</td>\n",
              "      <td>credit</td>\n",
              "      <td>315.0</td>\n",
              "      <td>87.0</td>\n",
              "      <td>19.0</td>\n",
              "      <td>NaN</td>\n",
              "      <td>NaN</td>\n",
              "      <td>NaN</td>\n",
              "      <td>1.0</td>\n",
              "      <td>1.0</td>\n",
              "      <td>0.0</td>\n",
              "      <td>0.0</td>\n",
              "      <td>0.0</td>\n",
              "      <td>1.0</td>\n",
              "      <td>0.0</td>\n",
              "      <td>0.0</td>\n",
              "      <td>1.0</td>\n",
              "      <td>0.0</td>\n",
              "      <td>2.0</td>\n",
              "      <td>0.0</td>\n",
              "      <td>1.0</td>\n",
              "      <td>1.0</td>\n",
              "      <td>14.0</td>\n",
              "      <td>NaN</td>\n",
              "      <td>13.0</td>\n",
              "      <td>NaN</td>\n",
              "      <td>NaN</td>\n",
              "      <td>NaN</td>\n",
              "      <td>NaN</td>\n",
              "      <td>NaN</td>\n",
              "      <td>NaN</td>\n",
              "      <td>...</td>\n",
              "      <td>NaN</td>\n",
              "      <td>NaN</td>\n",
              "      <td>NaN</td>\n",
              "      <td>NaN</td>\n",
              "      <td>NaN</td>\n",
              "      <td>NaN</td>\n",
              "      <td>NaN</td>\n",
              "      <td>NaN</td>\n",
              "      <td>NaN</td>\n",
              "      <td>NaN</td>\n",
              "      <td>NaN</td>\n",
              "      <td>NaN</td>\n",
              "      <td>NaN</td>\n",
              "      <td>NaN</td>\n",
              "      <td>NaN</td>\n",
              "      <td>NaN</td>\n",
              "      <td>NaN</td>\n",
              "      <td>NaN</td>\n",
              "      <td>NaN</td>\n",
              "      <td>NaN</td>\n",
              "      <td>NaN</td>\n",
              "      <td>NaN</td>\n",
              "      <td>NaN</td>\n",
              "      <td>NaN</td>\n",
              "      <td>NaN</td>\n",
              "      <td>NaN</td>\n",
              "      <td>NaN</td>\n",
              "      <td>NaN</td>\n",
              "      <td>NaN</td>\n",
              "      <td>NaN</td>\n",
              "      <td>NaN</td>\n",
              "      <td>NaN</td>\n",
              "      <td>NaN</td>\n",
              "      <td>NaN</td>\n",
              "      <td>NaN</td>\n",
              "      <td>NaN</td>\n",
              "      <td>NaN</td>\n",
              "      <td>NaN</td>\n",
              "      <td>NaN</td>\n",
              "      <td>NaN</td>\n",
              "    </tr>\n",
              "    <tr>\n",
              "      <th>1</th>\n",
              "      <td>2987001</td>\n",
              "      <td>0</td>\n",
              "      <td>86401</td>\n",
              "      <td>29.0</td>\n",
              "      <td>W</td>\n",
              "      <td>2755</td>\n",
              "      <td>404.0</td>\n",
              "      <td>150.0</td>\n",
              "      <td>mastercard</td>\n",
              "      <td>102.0</td>\n",
              "      <td>credit</td>\n",
              "      <td>325.0</td>\n",
              "      <td>87.0</td>\n",
              "      <td>NaN</td>\n",
              "      <td>NaN</td>\n",
              "      <td>gmail.com</td>\n",
              "      <td>NaN</td>\n",
              "      <td>1.0</td>\n",
              "      <td>1.0</td>\n",
              "      <td>0.0</td>\n",
              "      <td>0.0</td>\n",
              "      <td>0.0</td>\n",
              "      <td>1.0</td>\n",
              "      <td>0.0</td>\n",
              "      <td>0.0</td>\n",
              "      <td>0.0</td>\n",
              "      <td>0.0</td>\n",
              "      <td>1.0</td>\n",
              "      <td>0.0</td>\n",
              "      <td>1.0</td>\n",
              "      <td>1.0</td>\n",
              "      <td>0.0</td>\n",
              "      <td>NaN</td>\n",
              "      <td>NaN</td>\n",
              "      <td>0.0</td>\n",
              "      <td>NaN</td>\n",
              "      <td>NaN</td>\n",
              "      <td>NaN</td>\n",
              "      <td>NaN</td>\n",
              "      <td>NaN</td>\n",
              "      <td>...</td>\n",
              "      <td>NaN</td>\n",
              "      <td>NaN</td>\n",
              "      <td>NaN</td>\n",
              "      <td>NaN</td>\n",
              "      <td>NaN</td>\n",
              "      <td>NaN</td>\n",
              "      <td>NaN</td>\n",
              "      <td>NaN</td>\n",
              "      <td>NaN</td>\n",
              "      <td>NaN</td>\n",
              "      <td>NaN</td>\n",
              "      <td>NaN</td>\n",
              "      <td>NaN</td>\n",
              "      <td>NaN</td>\n",
              "      <td>NaN</td>\n",
              "      <td>NaN</td>\n",
              "      <td>NaN</td>\n",
              "      <td>NaN</td>\n",
              "      <td>NaN</td>\n",
              "      <td>NaN</td>\n",
              "      <td>NaN</td>\n",
              "      <td>NaN</td>\n",
              "      <td>NaN</td>\n",
              "      <td>NaN</td>\n",
              "      <td>NaN</td>\n",
              "      <td>NaN</td>\n",
              "      <td>NaN</td>\n",
              "      <td>NaN</td>\n",
              "      <td>NaN</td>\n",
              "      <td>NaN</td>\n",
              "      <td>NaN</td>\n",
              "      <td>NaN</td>\n",
              "      <td>NaN</td>\n",
              "      <td>NaN</td>\n",
              "      <td>NaN</td>\n",
              "      <td>NaN</td>\n",
              "      <td>NaN</td>\n",
              "      <td>NaN</td>\n",
              "      <td>NaN</td>\n",
              "      <td>NaN</td>\n",
              "    </tr>\n",
              "    <tr>\n",
              "      <th>2</th>\n",
              "      <td>2987002</td>\n",
              "      <td>0</td>\n",
              "      <td>86469</td>\n",
              "      <td>59.0</td>\n",
              "      <td>W</td>\n",
              "      <td>4663</td>\n",
              "      <td>490.0</td>\n",
              "      <td>150.0</td>\n",
              "      <td>visa</td>\n",
              "      <td>166.0</td>\n",
              "      <td>debit</td>\n",
              "      <td>330.0</td>\n",
              "      <td>87.0</td>\n",
              "      <td>287.0</td>\n",
              "      <td>NaN</td>\n",
              "      <td>outlook.com</td>\n",
              "      <td>NaN</td>\n",
              "      <td>1.0</td>\n",
              "      <td>1.0</td>\n",
              "      <td>0.0</td>\n",
              "      <td>0.0</td>\n",
              "      <td>0.0</td>\n",
              "      <td>1.0</td>\n",
              "      <td>0.0</td>\n",
              "      <td>0.0</td>\n",
              "      <td>1.0</td>\n",
              "      <td>0.0</td>\n",
              "      <td>1.0</td>\n",
              "      <td>0.0</td>\n",
              "      <td>1.0</td>\n",
              "      <td>1.0</td>\n",
              "      <td>0.0</td>\n",
              "      <td>NaN</td>\n",
              "      <td>NaN</td>\n",
              "      <td>0.0</td>\n",
              "      <td>NaN</td>\n",
              "      <td>NaN</td>\n",
              "      <td>NaN</td>\n",
              "      <td>NaN</td>\n",
              "      <td>NaN</td>\n",
              "      <td>...</td>\n",
              "      <td>NaN</td>\n",
              "      <td>NaN</td>\n",
              "      <td>NaN</td>\n",
              "      <td>NaN</td>\n",
              "      <td>NaN</td>\n",
              "      <td>NaN</td>\n",
              "      <td>NaN</td>\n",
              "      <td>NaN</td>\n",
              "      <td>NaN</td>\n",
              "      <td>NaN</td>\n",
              "      <td>NaN</td>\n",
              "      <td>NaN</td>\n",
              "      <td>NaN</td>\n",
              "      <td>NaN</td>\n",
              "      <td>NaN</td>\n",
              "      <td>NaN</td>\n",
              "      <td>NaN</td>\n",
              "      <td>NaN</td>\n",
              "      <td>NaN</td>\n",
              "      <td>NaN</td>\n",
              "      <td>NaN</td>\n",
              "      <td>NaN</td>\n",
              "      <td>NaN</td>\n",
              "      <td>NaN</td>\n",
              "      <td>NaN</td>\n",
              "      <td>NaN</td>\n",
              "      <td>NaN</td>\n",
              "      <td>NaN</td>\n",
              "      <td>NaN</td>\n",
              "      <td>NaN</td>\n",
              "      <td>NaN</td>\n",
              "      <td>NaN</td>\n",
              "      <td>NaN</td>\n",
              "      <td>NaN</td>\n",
              "      <td>NaN</td>\n",
              "      <td>NaN</td>\n",
              "      <td>NaN</td>\n",
              "      <td>NaN</td>\n",
              "      <td>NaN</td>\n",
              "      <td>NaN</td>\n",
              "    </tr>\n",
              "    <tr>\n",
              "      <th>3</th>\n",
              "      <td>2987003</td>\n",
              "      <td>0</td>\n",
              "      <td>86499</td>\n",
              "      <td>50.0</td>\n",
              "      <td>W</td>\n",
              "      <td>18132</td>\n",
              "      <td>567.0</td>\n",
              "      <td>150.0</td>\n",
              "      <td>mastercard</td>\n",
              "      <td>117.0</td>\n",
              "      <td>debit</td>\n",
              "      <td>476.0</td>\n",
              "      <td>87.0</td>\n",
              "      <td>NaN</td>\n",
              "      <td>NaN</td>\n",
              "      <td>yahoo.com</td>\n",
              "      <td>NaN</td>\n",
              "      <td>2.0</td>\n",
              "      <td>5.0</td>\n",
              "      <td>0.0</td>\n",
              "      <td>0.0</td>\n",
              "      <td>0.0</td>\n",
              "      <td>4.0</td>\n",
              "      <td>0.0</td>\n",
              "      <td>0.0</td>\n",
              "      <td>1.0</td>\n",
              "      <td>0.0</td>\n",
              "      <td>1.0</td>\n",
              "      <td>0.0</td>\n",
              "      <td>25.0</td>\n",
              "      <td>1.0</td>\n",
              "      <td>112.0</td>\n",
              "      <td>112.0</td>\n",
              "      <td>0.0</td>\n",
              "      <td>94.0</td>\n",
              "      <td>0.0</td>\n",
              "      <td>NaN</td>\n",
              "      <td>NaN</td>\n",
              "      <td>NaN</td>\n",
              "      <td>NaN</td>\n",
              "      <td>...</td>\n",
              "      <td>NaN</td>\n",
              "      <td>NaN</td>\n",
              "      <td>NaN</td>\n",
              "      <td>NaN</td>\n",
              "      <td>NaN</td>\n",
              "      <td>NaN</td>\n",
              "      <td>NaN</td>\n",
              "      <td>NaN</td>\n",
              "      <td>NaN</td>\n",
              "      <td>NaN</td>\n",
              "      <td>NaN</td>\n",
              "      <td>NaN</td>\n",
              "      <td>NaN</td>\n",
              "      <td>NaN</td>\n",
              "      <td>NaN</td>\n",
              "      <td>NaN</td>\n",
              "      <td>NaN</td>\n",
              "      <td>NaN</td>\n",
              "      <td>NaN</td>\n",
              "      <td>NaN</td>\n",
              "      <td>NaN</td>\n",
              "      <td>NaN</td>\n",
              "      <td>NaN</td>\n",
              "      <td>NaN</td>\n",
              "      <td>NaN</td>\n",
              "      <td>NaN</td>\n",
              "      <td>NaN</td>\n",
              "      <td>NaN</td>\n",
              "      <td>NaN</td>\n",
              "      <td>NaN</td>\n",
              "      <td>NaN</td>\n",
              "      <td>NaN</td>\n",
              "      <td>NaN</td>\n",
              "      <td>NaN</td>\n",
              "      <td>NaN</td>\n",
              "      <td>NaN</td>\n",
              "      <td>NaN</td>\n",
              "      <td>NaN</td>\n",
              "      <td>NaN</td>\n",
              "      <td>NaN</td>\n",
              "    </tr>\n",
              "    <tr>\n",
              "      <th>4</th>\n",
              "      <td>2987004</td>\n",
              "      <td>0</td>\n",
              "      <td>86506</td>\n",
              "      <td>50.0</td>\n",
              "      <td>H</td>\n",
              "      <td>4497</td>\n",
              "      <td>514.0</td>\n",
              "      <td>150.0</td>\n",
              "      <td>mastercard</td>\n",
              "      <td>102.0</td>\n",
              "      <td>credit</td>\n",
              "      <td>420.0</td>\n",
              "      <td>87.0</td>\n",
              "      <td>NaN</td>\n",
              "      <td>NaN</td>\n",
              "      <td>gmail.com</td>\n",
              "      <td>NaN</td>\n",
              "      <td>1.0</td>\n",
              "      <td>1.0</td>\n",
              "      <td>0.0</td>\n",
              "      <td>0.0</td>\n",
              "      <td>0.0</td>\n",
              "      <td>1.0</td>\n",
              "      <td>0.0</td>\n",
              "      <td>1.0</td>\n",
              "      <td>0.0</td>\n",
              "      <td>1.0</td>\n",
              "      <td>1.0</td>\n",
              "      <td>0.0</td>\n",
              "      <td>1.0</td>\n",
              "      <td>1.0</td>\n",
              "      <td>0.0</td>\n",
              "      <td>NaN</td>\n",
              "      <td>NaN</td>\n",
              "      <td>NaN</td>\n",
              "      <td>NaN</td>\n",
              "      <td>NaN</td>\n",
              "      <td>NaN</td>\n",
              "      <td>NaN</td>\n",
              "      <td>NaN</td>\n",
              "      <td>...</td>\n",
              "      <td>0.0</td>\n",
              "      <td>70787.0</td>\n",
              "      <td>NaN</td>\n",
              "      <td>NaN</td>\n",
              "      <td>NaN</td>\n",
              "      <td>NaN</td>\n",
              "      <td>NaN</td>\n",
              "      <td>NaN</td>\n",
              "      <td>NaN</td>\n",
              "      <td>NaN</td>\n",
              "      <td>100.0</td>\n",
              "      <td>NotFound</td>\n",
              "      <td>NaN</td>\n",
              "      <td>-480.0</td>\n",
              "      <td>New</td>\n",
              "      <td>NotFound</td>\n",
              "      <td>166.0</td>\n",
              "      <td>NaN</td>\n",
              "      <td>542.0</td>\n",
              "      <td>144.0</td>\n",
              "      <td>NaN</td>\n",
              "      <td>NaN</td>\n",
              "      <td>NaN</td>\n",
              "      <td>NaN</td>\n",
              "      <td>NaN</td>\n",
              "      <td>NaN</td>\n",
              "      <td>NaN</td>\n",
              "      <td>New</td>\n",
              "      <td>NotFound</td>\n",
              "      <td>Android 7.0</td>\n",
              "      <td>samsung browser 6.2</td>\n",
              "      <td>32.0</td>\n",
              "      <td>2220x1080</td>\n",
              "      <td>match_status:2</td>\n",
              "      <td>T</td>\n",
              "      <td>F</td>\n",
              "      <td>T</td>\n",
              "      <td>T</td>\n",
              "      <td>mobile</td>\n",
              "      <td>SAMSUNG SM-G892A Build/NRD90M</td>\n",
              "    </tr>\n",
              "  </tbody>\n",
              "</table>\n",
              "<p>5 rows × 434 columns</p>\n",
              "</div>"
            ],
            "text/plain": [
              "   TransactionID  isFraud  ...  DeviceType                     DeviceInfo\n",
              "0        2987000        0  ...         NaN                            NaN\n",
              "1        2987001        0  ...         NaN                            NaN\n",
              "2        2987002        0  ...         NaN                            NaN\n",
              "3        2987003        0  ...         NaN                            NaN\n",
              "4        2987004        0  ...      mobile  SAMSUNG SM-G892A Build/NRD90M\n",
              "\n",
              "[5 rows x 434 columns]"
            ]
          },
          "metadata": {
            "tags": []
          },
          "execution_count": 50
        }
      ]
    },
    {
      "cell_type": "markdown",
      "metadata": {
        "id": "eL89e_vAG0U7",
        "colab_type": "text"
      },
      "source": [
        "#### Checking the colums"
      ]
    },
    {
      "cell_type": "code",
      "metadata": {
        "id": "qVt8odZLej3_",
        "colab_type": "code",
        "outputId": "001986e5-29c0-4b44-b832-bceae3265671",
        "colab": {
          "base_uri": "https://localhost:8080/",
          "height": 121
        }
      },
      "source": [
        "train.columns"
      ],
      "execution_count": 21,
      "outputs": [
        {
          "output_type": "execute_result",
          "data": {
            "text/plain": [
              "Index(['TransactionID', 'isFraud', 'TransactionDT', 'TransactionAmt',\n",
              "       'ProductCD', 'card1', 'card2', 'card3', 'card4', 'card5',\n",
              "       ...\n",
              "       'id_31', 'id_32', 'id_33', 'id_34', 'id_35', 'id_36', 'id_37', 'id_38',\n",
              "       'DeviceType', 'DeviceInfo'],\n",
              "      dtype='object', length=434)"
            ]
          },
          "metadata": {
            "tags": []
          },
          "execution_count": 21
        }
      ]
    },
    {
      "cell_type": "markdown",
      "metadata": {
        "id": "hZCljN2fG88z",
        "colab_type": "text"
      },
      "source": [
        "#### Drop columns with null values greater than 20%"
      ]
    },
    {
      "cell_type": "code",
      "metadata": {
        "id": "x_NjBN3ggFwM",
        "colab_type": "code",
        "colab": {}
      },
      "source": [
        "null_percent = train.isnull().sum()/train.shape[0]*100\n",
        "cols_to_drop = np.array(null_percent[null_percent > 20].index)\n"
      ],
      "execution_count": 0,
      "outputs": []
    },
    {
      "cell_type": "code",
      "metadata": {
        "id": "Ch8cVvY6gYpx",
        "colab_type": "code",
        "colab": {}
      },
      "source": [
        "train = train.drop(cols_to_drop, axis=1)"
      ],
      "execution_count": 0,
      "outputs": []
    },
    {
      "cell_type": "markdown",
      "metadata": {
        "id": "VLYuDsR6HN3L",
        "colab_type": "text"
      },
      "source": [
        "#### Filling the Null Values"
      ]
    },
    {
      "cell_type": "code",
      "metadata": {
        "id": "BMYKIx4Glun4",
        "colab_type": "code",
        "colab": {}
      },
      "source": [
        "null_percent = train.isnull().sum()/train.shape[0]*100\n",
        "null_cols = np.array(null_percent[null_percent > 0].index)"
      ],
      "execution_count": 0,
      "outputs": []
    },
    {
      "cell_type": "code",
      "metadata": {
        "id": "A88sURmjzM2m",
        "colab_type": "code",
        "outputId": "21cb562c-dca5-439b-93ae-6a13e3464ce5",
        "colab": {
          "base_uri": "https://localhost:8080/",
          "height": 1000
        }
      },
      "source": [
        "for i in null_cols:\n",
        "    print('data type of {} is {}'.format(i, str(train[i].dtype)))\n",
        "    train[i] = train[i].replace(np.nan, train[i].mode()[0])\n",
        "    print('Filled the null values of column {}'.format(i))\n",
        "    print('--------------------------------------------')"
      ],
      "execution_count": 16,
      "outputs": [
        {
          "output_type": "stream",
          "text": [
            "data type of card2 is float16\n",
            "Filled the null values of column card2\n",
            "--------------------------------------------\n",
            "data type of card3 is float16\n",
            "Filled the null values of column card3\n",
            "--------------------------------------------\n",
            "data type of card4 is category\n",
            "Filled the null values of column card4\n",
            "--------------------------------------------\n",
            "data type of card5 is float16\n",
            "Filled the null values of column card5\n",
            "--------------------------------------------\n",
            "data type of card6 is category\n",
            "Filled the null values of column card6\n",
            "--------------------------------------------\n",
            "data type of addr1 is float16\n",
            "Filled the null values of column addr1\n",
            "--------------------------------------------\n",
            "data type of addr2 is float16\n",
            "Filled the null values of column addr2\n",
            "--------------------------------------------\n",
            "data type of P_emaildomain is category\n",
            "Filled the null values of column P_emaildomain\n",
            "--------------------------------------------\n",
            "data type of D1 is float16\n",
            "Filled the null values of column D1\n",
            "--------------------------------------------\n",
            "data type of D10 is float16\n",
            "Filled the null values of column D10\n",
            "--------------------------------------------\n",
            "data type of D15 is float16\n",
            "Filled the null values of column D15\n",
            "--------------------------------------------\n",
            "data type of V12 is float16\n",
            "Filled the null values of column V12\n",
            "--------------------------------------------\n",
            "data type of V13 is float16\n",
            "Filled the null values of column V13\n",
            "--------------------------------------------\n",
            "data type of V14 is float16\n",
            "Filled the null values of column V14\n",
            "--------------------------------------------\n",
            "data type of V15 is float16\n",
            "Filled the null values of column V15\n",
            "--------------------------------------------\n",
            "data type of V16 is float16\n",
            "Filled the null values of column V16\n",
            "--------------------------------------------\n",
            "data type of V17 is float16\n",
            "Filled the null values of column V17\n",
            "--------------------------------------------\n",
            "data type of V18 is float16\n",
            "Filled the null values of column V18\n",
            "--------------------------------------------\n",
            "data type of V19 is float16\n",
            "Filled the null values of column V19\n",
            "--------------------------------------------\n",
            "data type of V20 is float16\n",
            "Filled the null values of column V20\n",
            "--------------------------------------------\n",
            "data type of V21 is float16\n",
            "Filled the null values of column V21\n",
            "--------------------------------------------\n",
            "data type of V22 is float16\n",
            "Filled the null values of column V22\n",
            "--------------------------------------------\n",
            "data type of V23 is float16\n",
            "Filled the null values of column V23\n",
            "--------------------------------------------\n",
            "data type of V24 is float16\n",
            "Filled the null values of column V24\n",
            "--------------------------------------------\n",
            "data type of V25 is float16\n",
            "Filled the null values of column V25\n",
            "--------------------------------------------\n",
            "data type of V26 is float16\n",
            "Filled the null values of column V26\n",
            "--------------------------------------------\n",
            "data type of V27 is float16\n",
            "Filled the null values of column V27\n",
            "--------------------------------------------\n",
            "data type of V28 is float16\n",
            "Filled the null values of column V28\n",
            "--------------------------------------------\n",
            "data type of V29 is float16\n",
            "Filled the null values of column V29\n",
            "--------------------------------------------\n",
            "data type of V30 is float16\n",
            "Filled the null values of column V30\n",
            "--------------------------------------------\n",
            "data type of V31 is float16\n",
            "Filled the null values of column V31\n",
            "--------------------------------------------\n",
            "data type of V32 is float16\n",
            "Filled the null values of column V32\n",
            "--------------------------------------------\n",
            "data type of V33 is float16\n",
            "Filled the null values of column V33\n",
            "--------------------------------------------\n",
            "data type of V34 is float16\n",
            "Filled the null values of column V34\n",
            "--------------------------------------------\n",
            "data type of V53 is float16\n",
            "Filled the null values of column V53\n",
            "--------------------------------------------\n",
            "data type of V54 is float16\n",
            "Filled the null values of column V54\n",
            "--------------------------------------------\n",
            "data type of V55 is float16\n",
            "Filled the null values of column V55\n",
            "--------------------------------------------\n",
            "data type of V56 is float16\n",
            "Filled the null values of column V56\n",
            "--------------------------------------------\n",
            "data type of V57 is float16\n",
            "Filled the null values of column V57\n",
            "--------------------------------------------\n",
            "data type of V58 is float16\n",
            "Filled the null values of column V58\n",
            "--------------------------------------------\n",
            "data type of V59 is float16\n",
            "Filled the null values of column V59\n",
            "--------------------------------------------\n",
            "data type of V60 is float16\n",
            "Filled the null values of column V60\n",
            "--------------------------------------------\n",
            "data type of V61 is float16\n",
            "Filled the null values of column V61\n",
            "--------------------------------------------\n",
            "data type of V62 is float16\n",
            "Filled the null values of column V62\n",
            "--------------------------------------------\n",
            "data type of V63 is float16\n",
            "Filled the null values of column V63\n",
            "--------------------------------------------\n",
            "data type of V64 is float16\n",
            "Filled the null values of column V64\n",
            "--------------------------------------------\n",
            "data type of V65 is float16\n",
            "Filled the null values of column V65\n",
            "--------------------------------------------\n",
            "data type of V66 is float16\n",
            "Filled the null values of column V66\n",
            "--------------------------------------------\n",
            "data type of V67 is float16\n",
            "Filled the null values of column V67\n",
            "--------------------------------------------\n",
            "data type of V68 is float16\n",
            "Filled the null values of column V68\n",
            "--------------------------------------------\n",
            "data type of V69 is float16\n",
            "Filled the null values of column V69\n",
            "--------------------------------------------\n",
            "data type of V70 is float16\n",
            "Filled the null values of column V70\n",
            "--------------------------------------------\n",
            "data type of V71 is float16\n",
            "Filled the null values of column V71\n",
            "--------------------------------------------\n",
            "data type of V72 is float16\n",
            "Filled the null values of column V72\n",
            "--------------------------------------------\n",
            "data type of V73 is float16\n",
            "Filled the null values of column V73\n",
            "--------------------------------------------\n",
            "data type of V74 is float16\n",
            "Filled the null values of column V74\n",
            "--------------------------------------------\n",
            "data type of V75 is float16\n",
            "Filled the null values of column V75\n",
            "--------------------------------------------\n",
            "data type of V76 is float16\n",
            "Filled the null values of column V76\n",
            "--------------------------------------------\n",
            "data type of V77 is float16\n",
            "Filled the null values of column V77\n",
            "--------------------------------------------\n",
            "data type of V78 is float16\n",
            "Filled the null values of column V78\n",
            "--------------------------------------------\n",
            "data type of V79 is float16\n",
            "Filled the null values of column V79\n",
            "--------------------------------------------\n",
            "data type of V80 is float16\n",
            "Filled the null values of column V80\n",
            "--------------------------------------------\n",
            "data type of V81 is float16\n",
            "Filled the null values of column V81\n",
            "--------------------------------------------\n",
            "data type of V82 is float16\n",
            "Filled the null values of column V82\n",
            "--------------------------------------------\n",
            "data type of V83 is float16\n",
            "Filled the null values of column V83\n",
            "--------------------------------------------\n",
            "data type of V84 is float16\n",
            "Filled the null values of column V84\n",
            "--------------------------------------------\n",
            "data type of V85 is float16\n",
            "Filled the null values of column V85\n",
            "--------------------------------------------\n",
            "data type of V86 is float16\n",
            "Filled the null values of column V86\n",
            "--------------------------------------------\n",
            "data type of V87 is float16\n",
            "Filled the null values of column V87\n",
            "--------------------------------------------\n",
            "data type of V88 is float16\n",
            "Filled the null values of column V88\n",
            "--------------------------------------------\n",
            "data type of V89 is float16\n",
            "Filled the null values of column V89\n",
            "--------------------------------------------\n",
            "data type of V90 is float16\n",
            "Filled the null values of column V90\n",
            "--------------------------------------------\n",
            "data type of V91 is float16\n",
            "Filled the null values of column V91\n",
            "--------------------------------------------\n",
            "data type of V92 is float16\n",
            "Filled the null values of column V92\n",
            "--------------------------------------------\n",
            "data type of V93 is float16\n",
            "Filled the null values of column V93\n",
            "--------------------------------------------\n",
            "data type of V94 is float16\n",
            "Filled the null values of column V94\n",
            "--------------------------------------------\n",
            "data type of V95 is float16\n",
            "Filled the null values of column V95\n",
            "--------------------------------------------\n",
            "data type of V96 is float16\n",
            "Filled the null values of column V96\n",
            "--------------------------------------------\n",
            "data type of V97 is float16\n",
            "Filled the null values of column V97\n",
            "--------------------------------------------\n",
            "data type of V98 is float16\n",
            "Filled the null values of column V98\n",
            "--------------------------------------------\n",
            "data type of V99 is float16\n",
            "Filled the null values of column V99\n",
            "--------------------------------------------\n",
            "data type of V100 is float16\n",
            "Filled the null values of column V100\n",
            "--------------------------------------------\n",
            "data type of V101 is float16\n",
            "Filled the null values of column V101\n",
            "--------------------------------------------\n",
            "data type of V102 is float16\n",
            "Filled the null values of column V102\n",
            "--------------------------------------------\n",
            "data type of V103 is float16\n",
            "Filled the null values of column V103\n",
            "--------------------------------------------\n",
            "data type of V104 is float16\n",
            "Filled the null values of column V104\n",
            "--------------------------------------------\n",
            "data type of V105 is float16\n",
            "Filled the null values of column V105\n",
            "--------------------------------------------\n",
            "data type of V106 is float16\n",
            "Filled the null values of column V106\n",
            "--------------------------------------------\n",
            "data type of V107 is float16\n",
            "Filled the null values of column V107\n",
            "--------------------------------------------\n",
            "data type of V108 is float16\n",
            "Filled the null values of column V108\n",
            "--------------------------------------------\n",
            "data type of V109 is float16\n",
            "Filled the null values of column V109\n",
            "--------------------------------------------\n",
            "data type of V110 is float16\n",
            "Filled the null values of column V110\n",
            "--------------------------------------------\n",
            "data type of V111 is float16\n",
            "Filled the null values of column V111\n",
            "--------------------------------------------\n",
            "data type of V112 is float16\n",
            "Filled the null values of column V112\n",
            "--------------------------------------------\n",
            "data type of V113 is float16\n",
            "Filled the null values of column V113\n",
            "--------------------------------------------\n",
            "data type of V114 is float16\n",
            "Filled the null values of column V114\n",
            "--------------------------------------------\n",
            "data type of V115 is float16\n",
            "Filled the null values of column V115\n",
            "--------------------------------------------\n",
            "data type of V116 is float16\n",
            "Filled the null values of column V116\n",
            "--------------------------------------------\n",
            "data type of V117 is float16\n",
            "Filled the null values of column V117\n",
            "--------------------------------------------\n",
            "data type of V118 is float16\n",
            "Filled the null values of column V118\n",
            "--------------------------------------------\n",
            "data type of V119 is float16\n",
            "Filled the null values of column V119\n",
            "--------------------------------------------\n",
            "data type of V120 is float16\n",
            "Filled the null values of column V120\n",
            "--------------------------------------------\n",
            "data type of V121 is float16\n",
            "Filled the null values of column V121\n",
            "--------------------------------------------\n",
            "data type of V122 is float16\n",
            "Filled the null values of column V122\n",
            "--------------------------------------------\n",
            "data type of V123 is float16\n",
            "Filled the null values of column V123\n",
            "--------------------------------------------\n",
            "data type of V124 is float16\n",
            "Filled the null values of column V124\n",
            "--------------------------------------------\n",
            "data type of V125 is float16\n",
            "Filled the null values of column V125\n",
            "--------------------------------------------\n",
            "data type of V126 is float32\n",
            "Filled the null values of column V126\n",
            "--------------------------------------------\n",
            "data type of V127 is float32\n",
            "Filled the null values of column V127\n",
            "--------------------------------------------\n",
            "data type of V128 is float32\n",
            "Filled the null values of column V128\n",
            "--------------------------------------------\n",
            "data type of V129 is float16\n",
            "Filled the null values of column V129\n",
            "--------------------------------------------\n",
            "data type of V130 is float16\n",
            "Filled the null values of column V130\n",
            "--------------------------------------------\n",
            "data type of V131 is float16\n",
            "Filled the null values of column V131\n",
            "--------------------------------------------\n",
            "data type of V132 is float32\n",
            "Filled the null values of column V132\n",
            "--------------------------------------------\n",
            "data type of V133 is float32\n",
            "Filled the null values of column V133\n",
            "--------------------------------------------\n",
            "data type of V134 is float32\n",
            "Filled the null values of column V134\n",
            "--------------------------------------------\n",
            "data type of V135 is float32\n",
            "Filled the null values of column V135\n",
            "--------------------------------------------\n",
            "data type of V136 is float32\n",
            "Filled the null values of column V136\n",
            "--------------------------------------------\n",
            "data type of V137 is float32\n",
            "Filled the null values of column V137\n",
            "--------------------------------------------\n",
            "data type of V279 is float16\n",
            "Filled the null values of column V279\n",
            "--------------------------------------------\n",
            "data type of V280 is float16\n",
            "Filled the null values of column V280\n",
            "--------------------------------------------\n",
            "data type of V281 is float16\n",
            "Filled the null values of column V281\n",
            "--------------------------------------------\n",
            "data type of V282 is float16\n",
            "Filled the null values of column V282\n",
            "--------------------------------------------\n",
            "data type of V283 is float16\n",
            "Filled the null values of column V283\n",
            "--------------------------------------------\n",
            "data type of V284 is float16\n",
            "Filled the null values of column V284\n",
            "--------------------------------------------\n",
            "data type of V285 is float16\n",
            "Filled the null values of column V285\n",
            "--------------------------------------------\n",
            "data type of V286 is float16\n",
            "Filled the null values of column V286\n",
            "--------------------------------------------\n",
            "data type of V287 is float16\n",
            "Filled the null values of column V287\n",
            "--------------------------------------------\n",
            "data type of V288 is float16\n",
            "Filled the null values of column V288\n",
            "--------------------------------------------\n",
            "data type of V289 is float16\n",
            "Filled the null values of column V289\n",
            "--------------------------------------------\n",
            "data type of V290 is float16\n",
            "Filled the null values of column V290\n",
            "--------------------------------------------\n",
            "data type of V291 is float16\n",
            "Filled the null values of column V291\n",
            "--------------------------------------------\n",
            "data type of V292 is float16\n",
            "Filled the null values of column V292\n",
            "--------------------------------------------\n",
            "data type of V293 is float16\n",
            "Filled the null values of column V293\n",
            "--------------------------------------------\n",
            "data type of V294 is float16\n",
            "Filled the null values of column V294\n",
            "--------------------------------------------\n",
            "data type of V295 is float16\n",
            "Filled the null values of column V295\n",
            "--------------------------------------------\n",
            "data type of V296 is float16\n",
            "Filled the null values of column V296\n",
            "--------------------------------------------\n",
            "data type of V297 is float16\n",
            "Filled the null values of column V297\n",
            "--------------------------------------------\n",
            "data type of V298 is float16\n",
            "Filled the null values of column V298\n",
            "--------------------------------------------\n",
            "data type of V299 is float16\n",
            "Filled the null values of column V299\n",
            "--------------------------------------------\n",
            "data type of V300 is float16\n",
            "Filled the null values of column V300\n",
            "--------------------------------------------\n",
            "data type of V301 is float16\n",
            "Filled the null values of column V301\n",
            "--------------------------------------------\n",
            "data type of V302 is float16\n",
            "Filled the null values of column V302\n",
            "--------------------------------------------\n",
            "data type of V303 is float16\n",
            "Filled the null values of column V303\n",
            "--------------------------------------------\n",
            "data type of V304 is float16\n",
            "Filled the null values of column V304\n",
            "--------------------------------------------\n",
            "data type of V305 is float16\n",
            "Filled the null values of column V305\n",
            "--------------------------------------------\n",
            "data type of V306 is float32\n",
            "Filled the null values of column V306\n",
            "--------------------------------------------\n",
            "data type of V307 is float32\n",
            "Filled the null values of column V307\n",
            "--------------------------------------------\n",
            "data type of V308 is float32\n",
            "Filled the null values of column V308\n",
            "--------------------------------------------\n",
            "data type of V309 is float16\n",
            "Filled the null values of column V309\n",
            "--------------------------------------------\n",
            "data type of V310 is float16\n",
            "Filled the null values of column V310\n",
            "--------------------------------------------\n",
            "data type of V311 is float16\n",
            "Filled the null values of column V311\n",
            "--------------------------------------------\n",
            "data type of V312 is float16\n",
            "Filled the null values of column V312\n",
            "--------------------------------------------\n",
            "data type of V313 is float16\n",
            "Filled the null values of column V313\n",
            "--------------------------------------------\n",
            "data type of V314 is float16\n",
            "Filled the null values of column V314\n",
            "--------------------------------------------\n",
            "data type of V315 is float16\n",
            "Filled the null values of column V315\n",
            "--------------------------------------------\n",
            "data type of V316 is float32\n",
            "Filled the null values of column V316\n",
            "--------------------------------------------\n",
            "data type of V317 is float32\n",
            "Filled the null values of column V317\n",
            "--------------------------------------------\n",
            "data type of V318 is float32\n",
            "Filled the null values of column V318\n",
            "--------------------------------------------\n",
            "data type of V319 is float32\n",
            "Filled the null values of column V319\n",
            "--------------------------------------------\n",
            "data type of V320 is float32\n",
            "Filled the null values of column V320\n",
            "--------------------------------------------\n",
            "data type of V321 is float32\n",
            "Filled the null values of column V321\n",
            "--------------------------------------------\n"
          ],
          "name": "stdout"
        }
      ]
    },
    {
      "cell_type": "markdown",
      "metadata": {
        "id": "68_wxJhDHh1z",
        "colab_type": "text"
      },
      "source": [
        "#### Generate X and Y"
      ]
    },
    {
      "cell_type": "code",
      "metadata": {
        "id": "K0X3o_5m9cGZ",
        "colab_type": "code",
        "colab": {
          "base_uri": "https://localhost:8080/",
          "height": 34
        },
        "outputId": "72f56bd3-8712-46e3-9126-e2af761904a2"
      },
      "source": [
        "X = train.drop('isFraud', axis=1)\n",
        "y = train['isFraud']\n",
        "X.shape"
      ],
      "execution_count": 18,
      "outputs": [
        {
          "output_type": "execute_result",
          "data": {
            "text/plain": [
              "(590540, 181)"
            ]
          },
          "metadata": {
            "tags": []
          },
          "execution_count": 18
        }
      ]
    },
    {
      "cell_type": "code",
      "metadata": {
        "id": "Wt88U3FRQauu",
        "colab_type": "code",
        "colab": {
          "base_uri": "https://localhost:8080/",
          "height": 295
        },
        "outputId": "45641b5d-5c1d-4049-eecc-a50424efd40d"
      },
      "source": [
        "sns.countplot(x=y)\n",
        "plt.title('Fraud or Not')\n",
        "plt.show()"
      ],
      "execution_count": 57,
      "outputs": [
        {
          "output_type": "display_data",
          "data": {
            "image/png": "[encoded data removed]",
            "text/plain": [
              "<Figure size 432x288 with 1 Axes>"
            ]
          },
          "metadata": {
            "tags": []
          }
        }
      ]
    },
    {
      "cell_type": "markdown",
      "metadata": {
        "id": "o4TS7soJHgqu",
        "colab_type": "text"
      },
      "source": [
        "#### Handling categorical data"
      ]
    },
    {
      "cell_type": "code",
      "metadata": {
        "id": "EEY6vR_YHzfJ",
        "colab_type": "code",
        "colab": {
          "base_uri": "https://localhost:8080/",
          "height": 34
        },
        "outputId": "0b6f7bcc-dd14-45a6-80e4-a4c292ca3a1b"
      },
      "source": [
        "num_cols = X._get_numeric_data().columns\n",
        "cat_cols=list(set(X.columns) - set(num_cols))\n",
        "len(cat_cols)"
      ],
      "execution_count": 21,
      "outputs": [
        {
          "output_type": "execute_result",
          "data": {
            "text/plain": [
              "4"
            ]
          },
          "metadata": {
            "tags": []
          },
          "execution_count": 21
        }
      ]
    },
    {
      "cell_type": "code",
      "metadata": {
        "id": "c-u9Fsvk9ug3",
        "colab_type": "code",
        "colab": {}
      },
      "source": [
        "X=pd.get_dummies(X, columns=cat_cols)"
      ],
      "execution_count": 0,
      "outputs": []
    },
    {
      "cell_type": "markdown",
      "metadata": {
        "id": "QyZ8ltNgIsH4",
        "colab_type": "text"
      },
      "source": [
        "#### Selecting columns Based on correlation"
      ]
    },
    {
      "cell_type": "code",
      "metadata": {
        "id": "l3AciqcWRBu0",
        "colab_type": "code",
        "colab": {
          "base_uri": "https://localhost:8080/",
          "height": 1000
        },
        "outputId": "03010fbb-659b-471b-dadc-e604e0f18cb5"
      },
      "source": [
        "c = X.corr()\n",
        "plt.figure(figsize=(20,20))\n",
        "sns.heatmap(c)"
      ],
      "execution_count": 56,
      "outputs": [
        {
          "output_type": "execute_result",
          "data": {
            "text/plain": [
              "<matplotlib.axes._subplots.AxesSubplot at 0x7fb863692390>"
            ]
          },
          "metadata": {
            "tags": []
          },
          "execution_count": 56
        },
        {
          "output_type": "display_data",
          "data": {
            "image/png": "[encoded data removed]",
            "text/plain": [
              "<Figure size 1440x1440 with 2 Axes>"
            ]
          },
          "metadata": {
            "tags": []
          }
        }
      ]
    },
    {
      "cell_type": "code",
      "metadata": {
        "colab_type": "code",
        "id": "dzbnWNyDJIGg",
        "colab": {}
      },
      "source": [
        "col_corr = set()\n",
        "for i in range(len(c.columns)):\n",
        "    for j in range(i):\n",
        "        if (c.iloc[i, j] >= 0.95) and (c.columns[j] not in col_corr):\n",
        "            colname = c.columns[i] \n",
        "            col_corr.add(colname)\n"
      ],
      "execution_count": 0,
      "outputs": []
    },
    {
      "cell_type": "code",
      "metadata": {
        "id": "UB7wYVfa-u-u",
        "colab_type": "code",
        "outputId": "1419fb9c-ffad-4bae-cff8-af95d6d71be9",
        "colab": {
          "base_uri": "https://localhost:8080/",
          "height": 34
        }
      },
      "source": [
        "cols = X.columns\n",
        "print('{} and {}'.format(len(cols), len(col_corr)))\n"
      ],
      "execution_count": 27,
      "outputs": [
        {
          "output_type": "stream",
          "text": [
            "248 and 49\n"
          ],
          "name": "stdout"
        }
      ]
    },
    {
      "cell_type": "code",
      "metadata": {
        "id": "KiAPvoF1-zIE",
        "colab_type": "code",
        "colab": {}
      },
      "source": [
        "final_columns = []\n",
        "\n",
        "for i in cols:\n",
        "    if i in col_corr:\n",
        "        continue\n",
        "    else:\n",
        "        final_columns.append(i)"
      ],
      "execution_count": 0,
      "outputs": []
    },
    {
      "cell_type": "code",
      "metadata": {
        "id": "KWSAC2hk-1KI",
        "colab_type": "code",
        "colab": {}
      },
      "source": [
        "X1 = X[final_columns]"
      ],
      "execution_count": 0,
      "outputs": []
    },
    {
      "cell_type": "markdown",
      "metadata": {
        "id": "gVKWy_iAJ0Jz",
        "colab_type": "text"
      },
      "source": [
        "### Train Model"
      ]
    },
    {
      "cell_type": "code",
      "metadata": {
        "id": "yz6Ti8g2J5Aa",
        "colab_type": "code",
        "colab": {
          "base_uri": "https://localhost:8080/",
          "height": 34
        },
        "outputId": "6d6b129c-4106-41be-d0ce-47b17eb70f33"
      },
      "source": [
        "X.shape,y.shape"
      ],
      "execution_count": 30,
      "outputs": [
        {
          "output_type": "execute_result",
          "data": {
            "text/plain": [
              "((590540, 248), (590540,))"
            ]
          },
          "metadata": {
            "tags": []
          },
          "execution_count": 30
        }
      ]
    },
    {
      "cell_type": "code",
      "metadata": {
        "id": "DgMfYvYz-6Cj",
        "colab_type": "code",
        "colab": {}
      },
      "source": [
        "from sklearn.model_selection import train_test_split\n",
        "x_train, x_test, y_train, y_test = train_test_split(X1,y, test_size=0.25, random_state=25678)"
      ],
      "execution_count": 0,
      "outputs": []
    },
    {
      "cell_type": "markdown",
      "metadata": {
        "id": "UrI3sn6aK4EF",
        "colab_type": "text"
      },
      "source": [
        "#### Grid search the parameters"
      ]
    },
    {
      "cell_type": "code",
      "metadata": {
        "id": "nQCn7J8n_PQC",
        "colab_type": "code",
        "colab": {}
      },
      "source": [
        "from sklearn.linear_model import LogisticRegression"
      ],
      "execution_count": 0,
      "outputs": []
    },
    {
      "cell_type": "code",
      "metadata": {
        "id": "KRTBXsMJK3sc",
        "colab_type": "code",
        "colab": {}
      },
      "source": [
        "from sklearn.model_selection import GridSearchCV\n",
        "param_grid = {'C': [0.001, 0.01, 0.1, 1, 10, 100, 1000] }\n",
        "clf = GridSearchCV(LogisticRegression(penalty='l2'), param_grid)"
      ],
      "execution_count": 0,
      "outputs": []
    },
    {
      "cell_type": "code",
      "metadata": {
        "id": "3CUqHawlAX_3",
        "colab_type": "code",
        "colab": {
          "base_uri": "https://localhost:8080/",
          "height": 871
        },
        "outputId": "87440ed4-7642-4970-aefd-07e44f562cc6"
      },
      "source": [
        "clf.fit(x_train,y_train)\n",
        "print(\"tuned hpyerparameters :(best parameters) \",clf.best_params_)\n",
        "print(\"accuracy :\",clf.best_score_)"
      ],
      "execution_count": 37,
      "outputs": [
        {
          "output_type": "stream",
          "text": [
            "/usr/local/lib/python3.6/dist-packages/sklearn/model_selection/_split.py:1978: FutureWarning: The default value of cv will change from 3 to 5 in version 0.22. Specify it explicitly to silence this warning.\n",
            "  warnings.warn(CV_WARNING, FutureWarning)\n",
            "/usr/local/lib/python3.6/dist-packages/sklearn/linear_model/logistic.py:432: FutureWarning: Default solver will be changed to 'lbfgs' in 0.22. Specify a solver to silence this warning.\n",
            "  FutureWarning)\n",
            "/usr/local/lib/python3.6/dist-packages/sklearn/linear_model/logistic.py:432: FutureWarning: Default solver will be changed to 'lbfgs' in 0.22. Specify a solver to silence this warning.\n",
            "  FutureWarning)\n",
            "/usr/local/lib/python3.6/dist-packages/sklearn/linear_model/logistic.py:432: FutureWarning: Default solver will be changed to 'lbfgs' in 0.22. Specify a solver to silence this warning.\n",
            "  FutureWarning)\n",
            "/usr/local/lib/python3.6/dist-packages/sklearn/linear_model/logistic.py:432: FutureWarning: Default solver will be changed to 'lbfgs' in 0.22. Specify a solver to silence this warning.\n",
            "  FutureWarning)\n",
            "/usr/local/lib/python3.6/dist-packages/sklearn/linear_model/logistic.py:432: FutureWarning: Default solver will be changed to 'lbfgs' in 0.22. Specify a solver to silence this warning.\n",
            "  FutureWarning)\n",
            "/usr/local/lib/python3.6/dist-packages/sklearn/linear_model/logistic.py:432: FutureWarning: Default solver will be changed to 'lbfgs' in 0.22. Specify a solver to silence this warning.\n",
            "  FutureWarning)\n",
            "/usr/local/lib/python3.6/dist-packages/sklearn/linear_model/logistic.py:432: FutureWarning: Default solver will be changed to 'lbfgs' in 0.22. Specify a solver to silence this warning.\n",
            "  FutureWarning)\n",
            "/usr/local/lib/python3.6/dist-packages/sklearn/linear_model/logistic.py:432: FutureWarning: Default solver will be changed to 'lbfgs' in 0.22. Specify a solver to silence this warning.\n",
            "  FutureWarning)\n",
            "/usr/local/lib/python3.6/dist-packages/sklearn/linear_model/logistic.py:432: FutureWarning: Default solver will be changed to 'lbfgs' in 0.22. Specify a solver to silence this warning.\n",
            "  FutureWarning)\n",
            "/usr/local/lib/python3.6/dist-packages/sklearn/linear_model/logistic.py:432: FutureWarning: Default solver will be changed to 'lbfgs' in 0.22. Specify a solver to silence this warning.\n",
            "  FutureWarning)\n",
            "/usr/local/lib/python3.6/dist-packages/sklearn/linear_model/logistic.py:432: FutureWarning: Default solver will be changed to 'lbfgs' in 0.22. Specify a solver to silence this warning.\n",
            "  FutureWarning)\n",
            "/usr/local/lib/python3.6/dist-packages/sklearn/linear_model/logistic.py:432: FutureWarning: Default solver will be changed to 'lbfgs' in 0.22. Specify a solver to silence this warning.\n",
            "  FutureWarning)\n",
            "/usr/local/lib/python3.6/dist-packages/sklearn/linear_model/logistic.py:432: FutureWarning: Default solver will be changed to 'lbfgs' in 0.22. Specify a solver to silence this warning.\n",
            "  FutureWarning)\n",
            "/usr/local/lib/python3.6/dist-packages/sklearn/linear_model/logistic.py:432: FutureWarning: Default solver will be changed to 'lbfgs' in 0.22. Specify a solver to silence this warning.\n",
            "  FutureWarning)\n",
            "/usr/local/lib/python3.6/dist-packages/sklearn/linear_model/logistic.py:432: FutureWarning: Default solver will be changed to 'lbfgs' in 0.22. Specify a solver to silence this warning.\n",
            "  FutureWarning)\n",
            "/usr/local/lib/python3.6/dist-packages/sklearn/linear_model/logistic.py:432: FutureWarning: Default solver will be changed to 'lbfgs' in 0.22. Specify a solver to silence this warning.\n",
            "  FutureWarning)\n",
            "/usr/local/lib/python3.6/dist-packages/sklearn/linear_model/logistic.py:432: FutureWarning: Default solver will be changed to 'lbfgs' in 0.22. Specify a solver to silence this warning.\n",
            "  FutureWarning)\n",
            "/usr/local/lib/python3.6/dist-packages/sklearn/linear_model/logistic.py:432: FutureWarning: Default solver will be changed to 'lbfgs' in 0.22. Specify a solver to silence this warning.\n",
            "  FutureWarning)\n",
            "/usr/local/lib/python3.6/dist-packages/sklearn/linear_model/logistic.py:432: FutureWarning: Default solver will be changed to 'lbfgs' in 0.22. Specify a solver to silence this warning.\n",
            "  FutureWarning)\n",
            "/usr/local/lib/python3.6/dist-packages/sklearn/linear_model/logistic.py:432: FutureWarning: Default solver will be changed to 'lbfgs' in 0.22. Specify a solver to silence this warning.\n",
            "  FutureWarning)\n",
            "/usr/local/lib/python3.6/dist-packages/sklearn/linear_model/logistic.py:432: FutureWarning: Default solver will be changed to 'lbfgs' in 0.22. Specify a solver to silence this warning.\n",
            "  FutureWarning)\n",
            "/usr/local/lib/python3.6/dist-packages/sklearn/linear_model/logistic.py:432: FutureWarning: Default solver will be changed to 'lbfgs' in 0.22. Specify a solver to silence this warning.\n",
            "  FutureWarning)\n"
          ],
          "name": "stderr"
        },
        {
          "output_type": "stream",
          "text": [
            "tuned hpyerparameters :(best parameters)  {'C': 0.001}\n",
            "accuracy : 0.964881859540985\n"
          ],
          "name": "stdout"
        }
      ]
    },
    {
      "cell_type": "markdown",
      "metadata": {
        "id": "PKolJ6ExM1zV",
        "colab_type": "text"
      },
      "source": [
        "#### Train "
      ]
    },
    {
      "cell_type": "code",
      "metadata": {
        "id": "-MT8VcThM6Bu",
        "colab_type": "code",
        "colab": {
          "base_uri": "https://localhost:8080/",
          "height": 89
        },
        "outputId": "e31adaf4-f66f-4565-adb1-a2420b874357"
      },
      "source": [
        "logisticRegr = LogisticRegression(penalty='l2',C= 0.001)\n",
        "logisticRegr.fit(x_train,y_train)\n",
        "print(\"score\",logisticRegr.score(x_test,y_test))\n"
      ],
      "execution_count": 45,
      "outputs": [
        {
          "output_type": "stream",
          "text": [
            "/usr/local/lib/python3.6/dist-packages/sklearn/linear_model/logistic.py:432: FutureWarning: Default solver will be changed to 'lbfgs' in 0.22. Specify a solver to silence this warning.\n",
            "  FutureWarning)\n"
          ],
          "name": "stderr"
        },
        {
          "output_type": "stream",
          "text": [
            "score 0.9652182747993362\n"
          ],
          "name": "stdout"
        }
      ]
    }
  ]
}